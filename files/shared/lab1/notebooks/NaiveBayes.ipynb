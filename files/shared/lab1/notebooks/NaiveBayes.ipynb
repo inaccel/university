{
 "cells": [
  {
   "cell_type": "markdown",
   "metadata": {},
   "source": [
    "# FPGA Accelerated - Naive Bayes Classification"
   ]
  },
  {
   "cell_type": "markdown",
   "metadata": {},
   "source": [
    "#### In this notebook we are going to use the **InAccel modified GaussianNB** class to accelerate the algorithm's classification part. We will also use the **original scikit-learn implementation** to compute the overall **speedup** we get and compare any differences in the calculated predictions among the two runs. For the training and classification parts, we are going to create a custom dataset and further on adjust the number of **samples**, **features** and **classes** to inspect who speedup is affected."
   ]
  },
  {
   "cell_type": "markdown",
   "metadata": {},
   "source": [
    "### Import all necessary libraries"
   ]
  },
  {
   "cell_type": "code",
   "execution_count": null,
   "metadata": {},
   "outputs": [],
   "source": [
    "from inaccel.sklearn.naive_bayes import GaussianNB\n",
    "import numpy as np\n",
    "from sklearn import datasets\n",
    "from sklearn import metrics\n",
    "from time import time"
   ]
  },
  {
   "cell_type": "markdown",
   "metadata": {},
   "source": [
    "### Create a custom dataset with the defined number of samples, features and classes"
   ]
  },
  {
   "cell_type": "code",
   "execution_count": null,
   "metadata": {},
   "outputs": [],
   "source": [
    "samples = 10000\n",
    "features = 500\n",
    "classes = 10\n",
    "\n",
    "X, y = datasets.make_classification(n_samples = samples, n_features = features, n_informative = 400, n_redundant = 50,\n",
    "                                    n_repeated = 50, n_classes = classes, class_sep = 10.0, random_state = 0)"
   ]
  },
  {
   "cell_type": "markdown",
   "metadata": {},
   "source": [
    "### Use only **10%** of the generated samples for the training part and the rest for the classification"
   ]
  },
  {
   "cell_type": "code",
   "execution_count": null,
   "metadata": {},
   "outputs": [],
   "source": [
    "# Samples used for training the model\n",
    "train_samples = int(0.1 * samples)\n",
    "\n",
    "train_labels = y[:train_samples]\n",
    "train_features = X[:train_samples]\n",
    "print(\"Train data shape:\\n\\tLabels: \" + str(train_labels.shape) + \"\\n\\tFeatures: \" + str(train_features.shape))\n",
    "\n",
    "test_labels = y[train_samples:]\n",
    "test_features = X[train_samples:]\n",
    "print(\"Test data shape:\\n\\tLabels: \" + str(test_labels.shape) + \"\\n\\tFeatures: \" + str(test_features.shape))"
   ]
  },
  {
   "cell_type": "markdown",
   "metadata": {},
   "source": [
    "### Create a Naive Bayes object and **train** a model"
   ]
  },
  {
   "cell_type": "code",
   "execution_count": null,
   "metadata": {},
   "outputs": [],
   "source": [
    "nb = GaussianNB()\n",
    "\n",
    "startTime = time()\n",
    "nb_model = nb.fit(train_features, train_labels)\n",
    "elapsedTime = int((time() - startTime) * 100) / 100\n",
    "\n",
    "print(\"Naive Bayes training (CPU) took: \" + str(elapsedTime) + \" sec\")"
   ]
  },
  {
   "cell_type": "markdown",
   "metadata": {},
   "source": [
    "### Calculate the predictions using the FPGA resources"
   ]
  },
  {
   "cell_type": "code",
   "execution_count": null,
   "metadata": {},
   "outputs": [],
   "source": [
    "startTime = time()\n",
    "predictions = nb_model.predict(test_features)\n",
    "elapsedTime = int((time() - startTime) * 100) / 100\n",
    "\n",
    "print(\"Accuracy: \" + str(int(metrics.accuracy_score(test_labels, predictions) * 10000) / 100) + \"%\")\n",
    "print(\"Naive Bayes classification (FPGA) took: \" + str(elapsedTime) + \" sec\")"
   ]
  },
  {
   "cell_type": "markdown",
   "metadata": {},
   "source": [
    "### Import the Original NaiveBayes class to compare the classification part execution time"
   ]
  },
  {
   "cell_type": "code",
   "execution_count": null,
   "metadata": {},
   "outputs": [],
   "source": [
    "from sklearn.naive_bayes import GaussianNB as OriginalNB\n",
    "\n",
    "cpuNB = OriginalNB()\n",
    "\n",
    "cpu_model = cpuNB.fit(train_features, train_labels)"
   ]
  },
  {
   "cell_type": "markdown",
   "metadata": {},
   "source": [
    "### Calculate the predictions using the CPU resources"
   ]
  },
  {
   "cell_type": "code",
   "execution_count": null,
   "metadata": {},
   "outputs": [],
   "source": [
    "startTimeCPU = time()\n",
    "predictionsCPU = cpu_model.predict(test_features)\n",
    "elapsedTimeCPU = int((time() - startTimeCPU) * 100) / 100\n",
    "\n",
    "print(\"Accuracy: \" + str(int(metrics.accuracy_score(test_labels, predictionsCPU) * 10000) / 100) + \"%\")\n",
    "print(\"Naive Bayes classification (CPU) took: \" + str(elapsedTimeCPU) + \" sec\")"
   ]
  },
  {
   "cell_type": "markdown",
   "metadata": {},
   "source": [
    "### Speedup Calculation"
   ]
  },
  {
   "cell_type": "code",
   "execution_count": null,
   "metadata": {},
   "outputs": [],
   "source": [
    "speedup = int(elapsedTimeCPU / elapsedTime * 100) / 100\n",
    "print(\"Speedup: \" + str(speedup))"
   ]
  }
 ],
 "metadata": {
  "kernelspec": {
   "display_name": "Python 3",
   "language": "python",
   "name": "python3"
  },
  "language_info": {
   "codemirror_mode": {
    "name": "ipython",
    "version": 3
   },
   "file_extension": ".py",
   "mimetype": "text/x-python",
   "name": "python",
   "nbconvert_exporter": "python",
   "pygments_lexer": "ipython3",
   "version": "3.6.9"
  }
 },
 "nbformat": 4,
 "nbformat_minor": 4
}
